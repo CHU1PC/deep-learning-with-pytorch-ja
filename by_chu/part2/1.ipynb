{
 "cells": [
  {
   "cell_type": "code",
   "execution_count": 8,
   "id": "52963bc4",
   "metadata": {},
   "outputs": [
    {
     "name": "stderr",
     "output_type": "stream",
     "text": [
      "2025-08-24 15:01:39,581 INFO     pid:74574 dset:192:__init__ <dset.LunaDataset object at 0x16a7ebec0>: 275358 training samples\n"
     ]
    },
    {
     "data": {
      "text/plain": [
       "275358"
      ]
     },
     "execution_count": 8,
     "metadata": {},
     "output_type": "execute_result"
    }
   ],
   "source": [
    "from dset import LunaDataset\n",
    "\n",
    "dataset = LunaDataset()\n",
    "len(dataset)"
   ]
  },
  {
   "cell_type": "code",
   "execution_count": 9,
   "id": "d0e5f512",
   "metadata": {},
   "outputs": [],
   "source": [
    "for i in range(1000):\n",
    "    dataset[i]"
   ]
  },
  {
   "cell_type": "code",
   "execution_count": 6,
   "id": "cd329bee",
   "metadata": {},
   "outputs": [],
   "source": [
    "for i in range(1000):\n",
    "    dataset[i]"
   ]
  },
  {
   "cell_type": "code",
   "execution_count": null,
   "id": "6f128135",
   "metadata": {},
   "outputs": [],
   "source": []
  }
 ],
 "metadata": {
  "kernelspec": {
   "display_name": "pytorch_models",
   "language": "python",
   "name": "python3"
  },
  "language_info": {
   "codemirror_mode": {
    "name": "ipython",
    "version": 3
   },
   "file_extension": ".py",
   "mimetype": "text/x-python",
   "name": "python",
   "nbconvert_exporter": "python",
   "pygments_lexer": "ipython3",
   "version": "3.12.9"
  }
 },
 "nbformat": 4,
 "nbformat_minor": 5
}
