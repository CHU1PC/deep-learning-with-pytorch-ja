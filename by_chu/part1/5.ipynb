{
 "cells": [
  {
   "cell_type": "code",
   "execution_count": 1,
   "id": "52a13ebf",
   "metadata": {},
   "outputs": [],
   "source": [
    "import torch"
   ]
  },
  {
   "cell_type": "code",
   "execution_count": 2,
   "id": "9a1ee15a",
   "metadata": {},
   "outputs": [],
   "source": [
    "t_c = [0.5, 14.0, 15.0, 28.0, 11.0, 8.0, 3.0, -4.0, 6.0, 13.0, 21.0]\n",
    "t_u = [35.7, 55.9, 58.2, 81.9, 56.3, 48.9, 33.9, 21.8, 48.4, 60.4, 68.4]\n",
    "\n",
    "t_c = torch.tensor(t_c)\n",
    "t_u = torch.tensor(t_u)"
   ]
  },
  {
   "cell_type": "code",
   "execution_count": 3,
   "id": "c315765e",
   "metadata": {},
   "outputs": [
    {
     "data": {
      "text/plain": [
       "torch.Size([11])"
      ]
     },
     "execution_count": 3,
     "metadata": {},
     "output_type": "execute_result"
    }
   ],
   "source": [
    "t_u.shape"
   ]
  },
  {
   "cell_type": "code",
   "execution_count": 4,
   "id": "ef2032ee",
   "metadata": {},
   "outputs": [
    {
     "data": {
      "text/plain": [
       "['ASGD',\n",
       " 'Adadelta',\n",
       " 'Adafactor',\n",
       " 'Adagrad',\n",
       " 'Adam',\n",
       " 'AdamW',\n",
       " 'Adamax',\n",
       " 'LBFGS',\n",
       " 'NAdam',\n",
       " 'Optimizer',\n",
       " 'RAdam',\n",
       " 'RMSprop',\n",
       " 'Rprop',\n",
       " 'SGD',\n",
       " 'SparseAdam',\n",
       " '__all__',\n",
       " '__builtins__',\n",
       " '__cached__',\n",
       " '__doc__',\n",
       " '__file__',\n",
       " '__loader__',\n",
       " '__name__',\n",
       " '__package__',\n",
       " '__path__',\n",
       " '__spec__',\n",
       " '_adafactor',\n",
       " '_functional',\n",
       " 'lr_scheduler',\n",
       " 'swa_utils']"
      ]
     },
     "execution_count": 4,
     "metadata": {},
     "output_type": "execute_result"
    }
   ],
   "source": [
    "import torch.optim as optim\n",
    "\n",
    "dir(optim)"
   ]
  },
  {
   "cell_type": "code",
   "execution_count": 5,
   "id": "d950cdcf",
   "metadata": {},
   "outputs": [],
   "source": [
    "import torch.nn as nn"
   ]
  },
  {
   "cell_type": "code",
   "execution_count": 6,
   "id": "a5232224",
   "metadata": {},
   "outputs": [
    {
     "data": {
      "text/plain": [
       "torch.Size([11])"
      ]
     },
     "execution_count": 6,
     "metadata": {},
     "output_type": "execute_result"
    }
   ],
   "source": [
    "t_c.shape"
   ]
  },
  {
   "cell_type": "code",
   "execution_count": 7,
   "id": "88a40e1d",
   "metadata": {},
   "outputs": [
    {
     "name": "stdout",
     "output_type": "stream",
     "text": [
      "tensor(11.3626, grad_fn=<HuberLossBackward0>)\n",
      "tensor(7.6580, grad_fn=<HuberLossBackward0>)\n",
      "tensor(3.5064, grad_fn=<HuberLossBackward0>)\n",
      "tensor(4.0536, grad_fn=<HuberLossBackward0>)\n",
      "tensor(3.1213, grad_fn=<HuberLossBackward0>)\n"
     ]
    },
    {
     "data": {
      "text/plain": [
       "(Parameter containing:\n",
       " tensor([[0.3424]], requires_grad=True),\n",
       " Parameter containing:\n",
       " tensor([-5.1923], requires_grad=True))"
      ]
     },
     "execution_count": 7,
     "metadata": {},
     "output_type": "execute_result"
    }
   ],
   "source": [
    "t_u_unsq = t_u.unsqueeze(1)  # shape: (11, 1)\n",
    "weights = torch.ones([1, 1], requires_grad=True)\n",
    "\n",
    "model = nn.Linear(in_features=1, out_features=1)\n",
    "\n",
    "with torch.no_grad():\n",
    "    model.weight.data.fill_(1.0)\n",
    "\n",
    "lr = 1e-3  # 0.01\n",
    "optimizer = optim.RMSprop(model.parameters(), lr=lr)\n",
    "criterion = nn.HuberLoss()\n",
    "\n",
    "epochs = 5000\n",
    "\n",
    "for epoch in range(epochs):\n",
    "    output = model(t_u_unsq)\n",
    "    loss = criterion(t_c.unsqueeze(1), output)\n",
    "    if (epoch + 1) % 1000 == 0:\n",
    "        print(loss)\n",
    "    loss.backward()\n",
    "    optimizer.step()\n",
    "\n",
    "model.weight, model.bias"
   ]
  },
  {
   "cell_type": "code",
   "execution_count": 8,
   "id": "f8ec8359",
   "metadata": {},
   "outputs": [
    {
     "data": {
      "text/plain": [
       "torch.Size([11])"
      ]
     },
     "execution_count": 8,
     "metadata": {},
     "output_type": "execute_result"
    }
   ],
   "source": [
    "t_u.shape"
   ]
  },
  {
   "cell_type": "code",
   "execution_count": 9,
   "id": "54bb9fe2",
   "metadata": {},
   "outputs": [],
   "source": [
    "from torch.utils.data import TensorDataset\n",
    "\n",
    "data = TensorDataset(t_u, t_c)"
   ]
  },
  {
   "cell_type": "code",
   "execution_count": 10,
   "id": "d2a4c05d",
   "metadata": {},
   "outputs": [],
   "source": [
    "from torch.utils.data import random_split\n",
    "\n",
    "train, val = random_split(data, [0.8, 0.2], generator=torch.Generator().manual_seed(42))"
   ]
  },
  {
   "cell_type": "code",
   "execution_count": 11,
   "id": "546a88fb",
   "metadata": {},
   "outputs": [
    {
     "data": {
      "text/plain": [
       "tensor([33.9000, 48.4000, 60.4000, 58.2000, 55.9000, 68.4000, 35.7000, 21.8000,\n",
       "        81.9000])"
      ]
     },
     "execution_count": 11,
     "metadata": {},
     "output_type": "execute_result"
    }
   ],
   "source": [
    "data.tensors[0][train.indices]"
   ]
  },
  {
   "cell_type": "code",
   "execution_count": 12,
   "id": "bd7f10f5",
   "metadata": {},
   "outputs": [],
   "source": [
    "X_train = data.tensors[0][train.indices].unsqueeze(1)\n",
    "y_train = data.tensors[1][train.indices].unsqueeze(1)\n",
    "\n",
    "X_val = data.tensors[0][val.indices].unsqueeze(1)\n",
    "y_val = data.tensors[1][val.indices].unsqueeze(1)"
   ]
  },
  {
   "cell_type": "code",
   "execution_count": 13,
   "id": "08312fae",
   "metadata": {},
   "outputs": [
    {
     "data": {
      "text/plain": [
       "torch.Size([9, 1])"
      ]
     },
     "execution_count": 13,
     "metadata": {},
     "output_type": "execute_result"
    }
   ],
   "source": [
    "X_train.shape"
   ]
  },
  {
   "cell_type": "code",
   "execution_count": 19,
   "id": "aa7bad94",
   "metadata": {},
   "outputs": [
    {
     "name": "stdout",
     "output_type": "stream",
     "text": [
      "val loss: tensor(2.8369) \n",
      "\n",
      "val loss: tensor(2.7152) \n",
      "\n",
      "val loss: tensor(2.5628) \n",
      "\n",
      "val loss: tensor(2.3889) \n",
      "\n",
      "val loss: tensor(2.1995) \n",
      "\n",
      "val loss: tensor(2.1499) \n",
      "\n",
      "val loss: tensor(2.1659) \n",
      "\n",
      "val loss: tensor(2.0078) \n",
      "\n",
      "val loss: tensor(1.9523) \n",
      "\n",
      "val loss: tensor(1.9278) \n",
      "\n"
     ]
    }
   ],
   "source": [
    "t_u_unsq = t_u.unsqueeze(1)  # shape: (11, 1)\n",
    "bias = torch.zeros(1, requires_grad=True)\n",
    "weights1 = torch.ones(1, 1, requires_grad=True)\n",
    "weights2 = torch.ones(1, 1, requires_grad=True)\n",
    "model = lambda x: weights2 * x + weights1 * x + bias\n",
    "\n",
    "\n",
    "lr = 1e-2  # 0.01\n",
    "optimizer = optim.Adam([weights1, weights2, bias], lr=lr)\n",
    "criterion = nn.HuberLoss()\n",
    "\n",
    "epochs = 3000\n",
    "\n",
    "for epoch in range(epochs):\n",
    "    optimizer.zero_grad()\n",
    "    output = model(X_train)\n",
    "    loss = criterion(output, y_train)\n",
    "    if (epoch + 1) % 10000 == 0:\n",
    "        print(\"train loss:\", loss)\n",
    "    loss.backward()\n",
    "    optimizer.step()\n",
    "\n",
    "    with torch.no_grad():\n",
    "        output = model(X_val)\n",
    "        loss = criterion(output, y_val)\n",
    "        if (epoch + 1) % 300 == 0:\n",
    "            print(\"val loss:\", loss, \"\\n\")"
   ]
  },
  {
   "cell_type": "code",
   "execution_count": null,
   "id": "1530f1c8",
   "metadata": {},
   "outputs": [],
   "source": []
  }
 ],
 "metadata": {
  "kernelspec": {
   "display_name": "Python 3",
   "language": "python",
   "name": "python3"
  },
  "language_info": {
   "codemirror_mode": {
    "name": "ipython",
    "version": 3
   },
   "file_extension": ".py",
   "mimetype": "text/x-python",
   "name": "python",
   "nbconvert_exporter": "python",
   "pygments_lexer": "ipython3",
   "version": "3.12.9"
  }
 },
 "nbformat": 4,
 "nbformat_minor": 5
}
