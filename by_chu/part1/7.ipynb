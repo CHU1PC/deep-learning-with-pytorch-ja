{
 "cells": [
  {
   "cell_type": "code",
   "execution_count": 1,
   "id": "761783c3",
   "metadata": {},
   "outputs": [],
   "source": [
    "from torchvision import datasets\n",
    "\n",
    "cifar10 = datasets.CIFAR10(\"../\", train=True, download=True)\n",
    "cifar10_val = datasets.CIFAR10(\"../\", train=False, download=True)"
   ]
  },
  {
   "cell_type": "code",
   "execution_count": 2,
   "id": "b743a2a2",
   "metadata": {},
   "outputs": [
    {
     "name": "stdout",
     "output_type": "stream",
     "text": [
      "Help on class CIFAR10 in module torchvision.datasets.cifar:\n",
      "\n",
      "class CIFAR10(torchvision.datasets.vision.VisionDataset)\n",
      " |  CIFAR10(root: Union[str, pathlib.Path], train: bool = True, transform: Optional[Callable] = None, target_transform: Optional[Callable] = None, download: bool = False) -> None\n",
      " |\n",
      " |  `CIFAR10 <https://www.cs.toronto.edu/~kriz/cifar.html>`_ Dataset.\n",
      " |\n",
      " |  Args:\n",
      " |      root (str or ``pathlib.Path``): Root directory of dataset where directory\n",
      " |          ``cifar-10-batches-py`` exists or will be saved to if download is set to True.\n",
      " |      train (bool, optional): If True, creates dataset from training set, otherwise\n",
      " |          creates from test set.\n",
      " |      transform (callable, optional): A function/transform that takes in a PIL image\n",
      " |          and returns a transformed version. E.g, ``transforms.RandomCrop``\n",
      " |      target_transform (callable, optional): A function/transform that takes in the\n",
      " |          target and transforms it.\n",
      " |      download (bool, optional): If true, downloads the dataset from the internet and\n",
      " |          puts it in root directory. If dataset is already downloaded, it is not\n",
      " |          downloaded again.\n",
      " |\n",
      " |  Method resolution order:\n",
      " |      CIFAR10\n",
      " |      torchvision.datasets.vision.VisionDataset\n",
      " |      torch.utils.data.dataset.Dataset\n",
      " |      typing.Generic\n",
      " |      builtins.object\n",
      " |\n",
      " |  Methods defined here:\n",
      " |\n",
      " |  __getitem__(self, index: int) -> Tuple[Any, Any]\n",
      " |      Args:\n",
      " |          index (int): Index\n",
      " |\n",
      " |      Returns:\n",
      " |          tuple: (image, target) where target is index of the target class.\n",
      " |\n",
      " |  __init__(self, root: Union[str, pathlib.Path], train: bool = True, transform: Optional[Callable] = None, target_transform: Optional[Callable] = None, download: bool = False) -> None\n",
      " |      Initialize self.  See help(type(self)) for accurate signature.\n",
      " |\n",
      " |  __len__(self) -> int\n",
      " |\n",
      " |  download(self) -> None\n",
      " |\n",
      " |  extra_repr(self) -> str\n",
      " |\n",
      " |  ----------------------------------------------------------------------\n",
      " |  Data and other attributes defined here:\n",
      " |\n",
      " |  __annotations__ = {}\n",
      " |\n",
      " |  __parameters__ = ()\n",
      " |\n",
      " |  base_folder = 'cifar-10-batches-py'\n",
      " |\n",
      " |  filename = 'cifar-10-python.tar.gz'\n",
      " |\n",
      " |  meta = {'filename': 'batches.meta', 'key': 'label_names', 'md5': '5ff9...\n",
      " |\n",
      " |  test_list = [['test_batch', '40351d587109b95175f43aff81a1287e']]\n",
      " |\n",
      " |  tgz_md5 = 'c58f30108f718f92721af3b95e74349a'\n",
      " |\n",
      " |  train_list = [['data_batch_1', 'c99cafc152244af753f735de768cd75f'], ['...\n",
      " |\n",
      " |  url = 'https://www.cs.toronto.edu/~kriz/cifar-10-python.tar.gz'\n",
      " |\n",
      " |  ----------------------------------------------------------------------\n",
      " |  Methods inherited from torchvision.datasets.vision.VisionDataset:\n",
      " |\n",
      " |  __repr__(self) -> str\n",
      " |      Return repr(self).\n",
      " |\n",
      " |  ----------------------------------------------------------------------\n",
      " |  Methods inherited from torch.utils.data.dataset.Dataset:\n",
      " |\n",
      " |  __add__(self, other: 'Dataset[_T_co]') -> 'ConcatDataset[_T_co]'\n",
      " |\n",
      " |  ----------------------------------------------------------------------\n",
      " |  Data descriptors inherited from torch.utils.data.dataset.Dataset:\n",
      " |\n",
      " |  __dict__\n",
      " |      dictionary for instance variables\n",
      " |\n",
      " |  __weakref__\n",
      " |      list of weak references to the object\n",
      " |\n",
      " |  ----------------------------------------------------------------------\n",
      " |  Data and other attributes inherited from torch.utils.data.dataset.Dataset:\n",
      " |\n",
      " |  __orig_bases__ = (typing.Generic[+_T_co],)\n",
      " |\n",
      " |  ----------------------------------------------------------------------\n",
      " |  Class methods inherited from typing.Generic:\n",
      " |\n",
      " |  __class_getitem__(...)\n",
      " |      Parameterizes a generic class.\n",
      " |\n",
      " |      At least, parameterizing a generic class is the *main* thing this\n",
      " |      method does. For example, for some generic class `Foo`, this is called\n",
      " |      when we do `Foo[int]` - there, with `cls=Foo` and `params=int`.\n",
      " |\n",
      " |      However, note that this method is also called when defining generic\n",
      " |      classes in the first place with `class Foo[T]: ...`.\n",
      " |\n",
      " |  __init_subclass__(...)\n",
      " |      Function to initialize subclasses.\n",
      "\n"
     ]
    }
   ],
   "source": [
    "help(datasets.CIFAR10)"
   ]
  },
  {
   "cell_type": "code",
   "execution_count": 3,
   "id": "8eaa74a6",
   "metadata": {},
   "outputs": [
    {
     "data": {
      "text/plain": [
       "(torchvision.datasets.cifar.CIFAR10,\n",
       " torchvision.datasets.vision.VisionDataset,\n",
       " torch.utils.data.dataset.Dataset,\n",
       " typing.Generic,\n",
       " object)"
      ]
     },
     "execution_count": 3,
     "metadata": {},
     "output_type": "execute_result"
    }
   ],
   "source": [
    "type(cifar10).__mro__"
   ]
  },
  {
   "cell_type": "code",
   "execution_count": 4,
   "id": "85f136f4",
   "metadata": {},
   "outputs": [
    {
     "data": {
      "text/plain": [
       "50000"
      ]
     },
     "execution_count": 4,
     "metadata": {},
     "output_type": "execute_result"
    }
   ],
   "source": [
    "len(cifar10)"
   ]
  },
  {
   "cell_type": "code",
   "execution_count": 5,
   "id": "fa83893b",
   "metadata": {},
   "outputs": [],
   "source": [
    "class_names = ['airplane','automobile','bird','cat','deer',\n",
    "               'dog','frog','horse','ship','truck']"
   ]
  },
  {
   "cell_type": "code",
   "execution_count": 6,
   "id": "516a13a5",
   "metadata": {},
   "outputs": [
    {
     "data": {
      "text/plain": [
       "(<PIL.Image.Image image mode=RGB size=32x32>, 1, 'automobile')"
      ]
     },
     "execution_count": 6,
     "metadata": {},
     "output_type": "execute_result"
    }
   ],
   "source": [
    "img, label = cifar10[99]\n",
    "img, label, class_names[label]"
   ]
  },
  {
   "cell_type": "code",
   "execution_count": 7,
   "id": "9c328177",
   "metadata": {},
   "outputs": [
    {
     "data": {
      "image/png": "[encoded data removed]",
      "text/plain": [
       "<Figure size 640x480 with 1 Axes>"
      ]
     },
     "metadata": {},
     "output_type": "display_data"
    }
   ],
   "source": [
    "import matplotlib.pyplot as plt\n",
    "\n",
    "plt.imshow(img)\n",
    "plt.show()"
   ]
  },
  {
   "cell_type": "code",
   "execution_count": 8,
   "id": "a52a07c5",
   "metadata": {},
   "outputs": [
    {
     "data": {
      "text/plain": [
       "['AugMix',\n",
       " 'AutoAugment',\n",
       " 'AutoAugmentPolicy',\n",
       " 'CenterCrop',\n",
       " 'ColorJitter',\n",
       " 'Compose',\n",
       " 'ConvertImageDtype',\n",
       " 'ElasticTransform',\n",
       " 'FiveCrop',\n",
       " 'GaussianBlur',\n",
       " 'Grayscale',\n",
       " 'InterpolationMode',\n",
       " 'Lambda',\n",
       " 'LinearTransformation',\n",
       " 'Normalize',\n",
       " 'PILToTensor',\n",
       " 'Pad',\n",
       " 'RandAugment',\n",
       " 'RandomAdjustSharpness',\n",
       " 'RandomAffine',\n",
       " 'RandomApply',\n",
       " 'RandomAutocontrast',\n",
       " 'RandomChoice',\n",
       " 'RandomCrop',\n",
       " 'RandomEqualize',\n",
       " 'RandomErasing',\n",
       " 'RandomGrayscale',\n",
       " 'RandomHorizontalFlip',\n",
       " 'RandomInvert',\n",
       " 'RandomOrder',\n",
       " 'RandomPerspective',\n",
       " 'RandomPosterize',\n",
       " 'RandomResizedCrop',\n",
       " 'RandomRotation',\n",
       " 'RandomSolarize',\n",
       " 'RandomVerticalFlip',\n",
       " 'Resize',\n",
       " 'TenCrop',\n",
       " 'ToPILImage',\n",
       " 'ToTensor',\n",
       " 'TrivialAugmentWide',\n",
       " '__builtins__',\n",
       " '__cached__',\n",
       " '__doc__',\n",
       " '__file__',\n",
       " '__loader__',\n",
       " '__name__',\n",
       " '__package__',\n",
       " '__path__',\n",
       " '__spec__',\n",
       " '_functional_pil',\n",
       " '_functional_tensor',\n",
       " '_presets',\n",
       " 'autoaugment',\n",
       " 'functional',\n",
       " 'transforms']"
      ]
     },
     "execution_count": 8,
     "metadata": {},
     "output_type": "execute_result"
    }
   ],
   "source": [
    "from torchvision import transforms\n",
    "\n",
    "dir(transforms)"
   ]
  },
  {
   "cell_type": "code",
   "execution_count": 9,
   "id": "d0d28f0d",
   "metadata": {},
   "outputs": [],
   "source": [
    "tensor_cifar10 = datasets.CIFAR10(\"../\", train=True, download=False,\n",
    "                                  transform=transforms.ToTensor())"
   ]
  },
  {
   "cell_type": "code",
   "execution_count": 10,
   "id": "300a8173",
   "metadata": {},
   "outputs": [
    {
     "data": {
      "text/plain": [
       "(torch.float32, torch.Size([3, 32, 32]))"
      ]
     },
     "execution_count": 10,
     "metadata": {},
     "output_type": "execute_result"
    }
   ],
   "source": [
    "img_t, _ = tensor_cifar10[99]\n",
    "img_t.dtype, img_t.shape"
   ]
  },
  {
   "cell_type": "code",
   "execution_count": 11,
   "id": "aeadbf6a",
   "metadata": {},
   "outputs": [
    {
     "data": {
      "text/plain": [
       "(tensor(0.), tensor(1.))"
      ]
     },
     "execution_count": 11,
     "metadata": {},
     "output_type": "execute_result"
    }
   ],
   "source": [
    "img_t.min(), img_t.max()"
   ]
  },
  {
   "cell_type": "code",
   "execution_count": 12,
   "id": "f4ddf85b",
   "metadata": {},
   "outputs": [
    {
     "data": {
      "text/plain": [
       "<matplotlib.image.AxesImage at 0x158505fa0>"
      ]
     },
     "execution_count": 12,
     "metadata": {},
     "output_type": "execute_result"
    },
    {
     "data": {
      "image/png": "[encoded data removed]",
      "text/plain": [
       "<Figure size 640x480 with 1 Axes>"
      ]
     },
     "metadata": {},
     "output_type": "display_data"
    }
   ],
   "source": [
    "plt.imshow(img_t.permute(1, 2, 0))"
   ]
  },
  {
   "cell_type": "code",
   "execution_count": 13,
   "id": "910e36ee",
   "metadata": {},
   "outputs": [
    {
     "data": {
      "text/plain": [
       "torch.Size([4, 3])"
      ]
     },
     "execution_count": 13,
     "metadata": {},
     "output_type": "execute_result"
    }
   ],
   "source": [
    "import torch\n",
    "\n",
    "A = torch.arange(0, 12).reshape(4, 3)\n",
    "\n",
    "A.shape"
   ]
  },
  {
   "cell_type": "code",
   "execution_count": 14,
   "id": "4f537644",
   "metadata": {},
   "outputs": [],
   "source": [
    "imgs = torch.stack([img_t for img_t, _ in tensor_cifar10], dim=3)"
   ]
  },
  {
   "cell_type": "code",
   "execution_count": 15,
   "id": "d8053a10",
   "metadata": {},
   "outputs": [
    {
     "data": {
      "text/plain": [
       "torch.Size([3, 32, 32, 50000])"
      ]
     },
     "execution_count": 15,
     "metadata": {},
     "output_type": "execute_result"
    }
   ],
   "source": [
    "\n",
    "\n",
    "imgs.shape"
   ]
  },
  {
   "cell_type": "code",
   "execution_count": 16,
   "id": "95b24b11",
   "metadata": {},
   "outputs": [
    {
     "data": {
      "text/plain": [
       "tensor([0.4914, 0.4822, 0.4465])"
      ]
     },
     "execution_count": 16,
     "metadata": {},
     "output_type": "execute_result"
    }
   ],
   "source": [
    "imgs.view(3, -1).mean(dim=1)"
   ]
  },
  {
   "cell_type": "code",
   "execution_count": 17,
   "id": "2b489bbe",
   "metadata": {},
   "outputs": [
    {
     "data": {
      "text/plain": [
       "tensor([0.2470, 0.2435, 0.2616])"
      ]
     },
     "execution_count": 17,
     "metadata": {},
     "output_type": "execute_result"
    }
   ],
   "source": [
    "imgs.view(3, -1).std(dim=1)"
   ]
  },
  {
   "cell_type": "code",
   "execution_count": 18,
   "id": "7ab6f58b",
   "metadata": {},
   "outputs": [],
   "source": [
    "transformed_cifar10 = datasets.CIFAR10(\"../\", train=True, download=False,\n",
    "                                       transform=transforms.Compose([\n",
    "                                           transforms.ToTensor(),\n",
    "                                           transforms.Normalize(mean=(0.4915, 0.4823, 0.4468),\n",
    "                                                                std=(0.2470, 0.2435, 0.2616))\n",
    "                                       ]))\n",
    "transformed_cifar10_val = datasets.CIFAR10(\"../\", train=False, download=False,\n",
    "                                           transform=transforms.Compose([\n",
    "                                            transforms.ToTensor()                                               \n",
    "                                           ]))"
   ]
  },
  {
   "cell_type": "code",
   "execution_count": 19,
   "id": "8ea9c9fc",
   "metadata": {},
   "outputs": [
    {
     "name": "stderr",
     "output_type": "stream",
     "text": [
      "Clipping input data to the valid range for imshow with RGB data ([0..1] for floats or [0..255] for integers). Got range [-1.9806982..2.126078].\n"
     ]
    },
    {
     "data": {
      "text/plain": [
       "<matplotlib.image.AxesImage at 0x1585c1eb0>"
      ]
     },
     "execution_count": 19,
     "metadata": {},
     "output_type": "execute_result"
    },
    {
     "data": {
      "image/png": "[encoded data removed]",
      "text/plain": [
       "<Figure size 640x480 with 1 Axes>"
      ]
     },
     "metadata": {},
     "output_type": "display_data"
    }
   ],
   "source": [
    "img_t, _ = transformed_cifar10[99]\n",
    "plt.imshow(img_t.permute(1, 2, 0))"
   ]
  },
  {
   "cell_type": "code",
   "execution_count": 20,
   "id": "e46f8b58",
   "metadata": {},
   "outputs": [],
   "source": [
    "label_map = {0: 0, 2: 1}\n",
    "class_names = [\"airplane\", \"bird\"]\n",
    "cifar2 = [(img, label_map[label])\n",
    "          for img, label in transformed_cifar10 if label in [0, 2]]\n",
    "cifar2_val = [(img, label_map[label])\n",
    "              for img, label in transformed_cifar10_val if label in [0, 2]]"
   ]
  },
  {
   "cell_type": "code",
   "execution_count": 21,
   "id": "e73ef823",
   "metadata": {},
   "outputs": [],
   "source": [
    "import torch.nn as nn\n",
    "from collections import OrderedDict\n",
    "\n",
    "n_out = 2\n",
    "\n",
    "model = nn.Sequential(\n",
    "    OrderedDict([\n",
    "        (\"fc1\", nn.Linear(in_features=3072, out_features=512)),\n",
    "        (\"tanh\", nn.Tanh()),\n",
    "        (\"fc2\", nn.Linear(512, n_out))\n",
    "    ])\n",
    ")"
   ]
  },
  {
   "cell_type": "code",
   "execution_count": 22,
   "id": "8d6e1503",
   "metadata": {},
   "outputs": [
    {
     "name": "stderr",
     "output_type": "stream",
     "text": [
      "Clipping input data to the valid range for imshow with RGB data ([0..1] for floats or [0..255] for integers). Got range [-1.8628641..2.029448].\n"
     ]
    },
    {
     "data": {
      "image/png": "[encoded data removed]",
      "text/plain": [
       "<Figure size 640x480 with 1 Axes>"
      ]
     },
     "metadata": {},
     "output_type": "display_data"
    }
   ],
   "source": [
    "img, _ = cifar2[0]\n",
    "plt.imshow(img.permute(1, 2, 0))\n",
    "plt.show()"
   ]
  },
  {
   "cell_type": "code",
   "execution_count": 23,
   "id": "208b9ad0",
   "metadata": {},
   "outputs": [
    {
     "data": {
      "text/plain": [
       "torch.Size([3, 32, 32])"
      ]
     },
     "execution_count": 23,
     "metadata": {},
     "output_type": "execute_result"
    }
   ],
   "source": [
    "img.shape"
   ]
  },
  {
   "cell_type": "code",
   "execution_count": 24,
   "id": "c5afc522",
   "metadata": {},
   "outputs": [
    {
     "data": {
      "text/plain": [
       "torch.Size([1, 3072])"
      ]
     },
     "execution_count": 24,
     "metadata": {},
     "output_type": "execute_result"
    }
   ],
   "source": [
    "img_batch = img.view(-1).unsqueeze(0)\n",
    "img_batch.shape"
   ]
  },
  {
   "cell_type": "code",
   "execution_count": 25,
   "id": "9e55262e",
   "metadata": {},
   "outputs": [
    {
     "data": {
      "text/plain": [
       "tensor([[ 0.0388, -0.3162]], grad_fn=<AddmmBackward0>)"
      ]
     },
     "execution_count": 25,
     "metadata": {},
     "output_type": "execute_result"
    }
   ],
   "source": [
    "out = model(img_batch)\n",
    "out"
   ]
  },
  {
   "cell_type": "code",
   "execution_count": 26,
   "id": "f50618ce",
   "metadata": {},
   "outputs": [
    {
     "data": {
      "text/plain": [
       "tensor([0])"
      ]
     },
     "execution_count": 26,
     "metadata": {},
     "output_type": "execute_result"
    }
   ],
   "source": [
    "import torch\n",
    "_, index = torch.max(out, dim=1)\n",
    "index"
   ]
  },
  {
   "cell_type": "code",
   "execution_count": 27,
   "id": "e119047b",
   "metadata": {},
   "outputs": [],
   "source": [
    "model = nn.Sequential(\n",
    "    nn.Linear(3072, 512),\n",
    "    nn.Tanh(),\n",
    "    nn.Linear(512, 2),\n",
    ")\n",
    "loss = nn.CrossEntropyLoss()"
   ]
  },
  {
   "cell_type": "code",
   "execution_count": 28,
   "id": "bb719822",
   "metadata": {},
   "outputs": [
    {
     "data": {
      "text/plain": [
       "tensor(0.4157, grad_fn=<NllLossBackward0>)"
      ]
     },
     "execution_count": 28,
     "metadata": {},
     "output_type": "execute_result"
    }
   ],
   "source": [
    "img, label = cifar2[0]\n",
    "out = model(img.view(-1).unsqueeze(0))\n",
    "loss(out, torch.tensor([label]))"
   ]
  },
  {
   "cell_type": "code",
   "execution_count": 29,
   "id": "a83a03ac",
   "metadata": {},
   "outputs": [
    {
     "data": {
      "text/plain": [
       "CrossEntropyLoss()"
      ]
     },
     "execution_count": 29,
     "metadata": {},
     "output_type": "execute_result"
    }
   ],
   "source": [
    "nn.CrossEntropyLoss()"
   ]
  },
  {
   "cell_type": "code",
   "execution_count": 32,
   "id": "53fcb40f",
   "metadata": {},
   "outputs": [
    {
     "name": "stdout",
     "output_type": "stream",
     "text": [
      "Epoch: 0, Loss 4.550115585327148\n",
      "Epoch: 1, Loss 2.390645742416382\n",
      "Epoch: 2, Loss 10.879034996032715\n",
      "Epoch: 3, Loss 12.26121997833252\n",
      "Epoch: 4, Loss 9.420441627502441\n"
     ]
    }
   ],
   "source": [
    "import torch\n",
    "import torch.nn as nn\n",
    "import torch.optim as optim\n",
    "\n",
    "\n",
    "model = nn.Sequential(\n",
    "    nn.Linear(3072, 512),\n",
    "    nn.Tanh(),\n",
    "    nn.Linear(512, 2)\n",
    ")\n",
    "\n",
    "lr = 1e-2\n",
    "optimizer = optim.SGD(model.parameters(), lr=lr)\n",
    "criterion = nn.CrossEntropyLoss()\n",
    "\n",
    "n_epochs = 5\n",
    "\n",
    "for epoch in range(n_epochs):\n",
    "    for img, label in cifar2:\n",
    "        optimizer.zero_grad()\n",
    "        out = model(img.view(-1).unsqueeze(0))\n",
    "        loss = criterion(out, torch.tensor([label]))\n",
    "\n",
    "        loss.backward()\n",
    "        optimizer.step()\n",
    "        \n",
    "    print(f\"Epoch: {epoch}, Loss {float(loss)}\")"
   ]
  },
  {
   "cell_type": "code",
   "execution_count": 33,
   "id": "a1146f13",
   "metadata": {},
   "outputs": [
    {
     "name": "stdout",
     "output_type": "stream",
     "text": [
      "mps\n"
     ]
    }
   ],
   "source": [
    "device = torch.device(\"mps\" if torch.backends.mps.is_available() else \"cpu\")\n",
    "# device = torch.device(\"cpu\")\n",
    "print(device)"
   ]
  },
  {
   "cell_type": "code",
   "execution_count": 34,
   "id": "af851b8e",
   "metadata": {},
   "outputs": [
    {
     "name": "stdout",
     "output_type": "stream",
     "text": [
      "Epoch: 0, Loss 0.5776326656341553\n",
      "Epoch: 1, Loss 0.3274502754211426\n",
      "Epoch: 2, Loss 0.37388622760772705\n",
      "Epoch: 3, Loss 0.5106340646743774\n",
      "Epoch: 4, Loss 0.36774134635925293\n",
      "Epoch: 5, Loss 0.6276460289955139\n",
      "Epoch: 6, Loss 0.37584763765335083\n",
      "Epoch: 7, Loss 0.3643789291381836\n",
      "Epoch: 8, Loss 0.27212801575660706\n",
      "Epoch: 9, Loss 0.46737128496170044\n",
      "Epoch: 10, Loss 0.47024479508399963\n",
      "Epoch: 11, Loss 0.24725794792175293\n",
      "Epoch: 12, Loss 0.6183360815048218\n",
      "Epoch: 13, Loss 0.5548568964004517\n",
      "Epoch: 14, Loss 0.39177820086479187\n",
      "Epoch: 15, Loss 0.2994101643562317\n",
      "Epoch: 16, Loss 0.8029822707176208\n",
      "Epoch: 17, Loss 0.5776711106300354\n",
      "Epoch: 18, Loss 0.33247804641723633\n",
      "Epoch: 19, Loss 0.2670930325984955\n",
      "Epoch: 20, Loss 0.2480120062828064\n",
      "Epoch: 21, Loss 0.48244479298591614\n",
      "Epoch: 22, Loss 0.45839136838912964\n",
      "Epoch: 23, Loss 0.21677522361278534\n",
      "Epoch: 24, Loss 0.20963597297668457\n",
      "Epoch: 25, Loss 0.1820533126592636\n",
      "Epoch: 26, Loss 0.300794780254364\n",
      "Epoch: 27, Loss 0.10419107973575592\n",
      "Epoch: 28, Loss 0.2514561414718628\n",
      "Epoch: 29, Loss 0.19043594598770142\n",
      "Epoch: 30, Loss 0.048583559691905975\n",
      "Epoch: 31, Loss 0.061221055686473846\n",
      "Epoch: 32, Loss 0.07858400046825409\n",
      "Epoch: 33, Loss 0.07233385741710663\n",
      "Epoch: 34, Loss 0.15913927555084229\n",
      "Epoch: 35, Loss 0.27212852239608765\n",
      "Epoch: 36, Loss 0.11263811588287354\n",
      "Epoch: 37, Loss 0.08517089486122131\n",
      "Epoch: 38, Loss 0.14906218647956848\n",
      "Epoch: 39, Loss 0.1111995130777359\n",
      "Epoch: 40, Loss 0.12033669650554657\n",
      "Epoch: 41, Loss 0.04970642924308777\n",
      "Epoch: 42, Loss 0.041608646512031555\n",
      "Epoch: 43, Loss 0.11516694724559784\n",
      "Epoch: 44, Loss 0.06608770787715912\n",
      "Epoch: 45, Loss 0.07074987143278122\n",
      "Epoch: 46, Loss 0.22592096030712128\n",
      "Epoch: 47, Loss 0.17441008985042572\n",
      "Epoch: 48, Loss 0.1816146820783615\n",
      "Epoch: 49, Loss 0.06337811052799225\n",
      "Epoch: 50, Loss 0.15043216943740845\n",
      "Epoch: 51, Loss 0.05531571805477142\n",
      "Epoch: 52, Loss 0.028166621923446655\n",
      "Epoch: 53, Loss 0.05138552188873291\n",
      "Epoch: 54, Loss 0.056291379034519196\n",
      "Epoch: 55, Loss 0.06731324642896652\n",
      "Epoch: 56, Loss 0.24801693856716156\n",
      "Epoch: 57, Loss 0.1823974847793579\n",
      "Epoch: 58, Loss 0.05172431468963623\n",
      "Epoch: 59, Loss 0.04329511523246765\n",
      "Epoch: 60, Loss 0.1716887354850769\n",
      "Epoch: 61, Loss 0.15518346428871155\n",
      "Epoch: 62, Loss 0.014010949060320854\n",
      "Epoch: 63, Loss 0.0344327837228775\n",
      "Epoch: 64, Loss 0.012123997323215008\n",
      "Epoch: 65, Loss 0.01449970155954361\n",
      "Epoch: 66, Loss 0.03419799730181694\n",
      "Epoch: 67, Loss 0.05682606250047684\n",
      "Epoch: 68, Loss 0.013463049195706844\n",
      "Epoch: 69, Loss 0.014808828011155128\n",
      "Epoch: 70, Loss 0.03388617932796478\n",
      "Epoch: 71, Loss 0.02364233322441578\n",
      "Epoch: 72, Loss 0.03088705614209175\n",
      "Epoch: 73, Loss 0.058945972472429276\n",
      "Epoch: 74, Loss 0.04377100244164467\n",
      "Epoch: 75, Loss 0.03554913401603699\n",
      "Epoch: 76, Loss 0.01859402284026146\n",
      "Epoch: 77, Loss 0.03242109343409538\n",
      "Epoch: 78, Loss 0.031225860118865967\n",
      "Epoch: 79, Loss 0.0442047193646431\n",
      "Epoch: 80, Loss 0.019395016133785248\n",
      "Epoch: 81, Loss 0.02640700526535511\n",
      "Epoch: 82, Loss 0.021047521382570267\n",
      "Epoch: 83, Loss 0.018964983522892\n",
      "Epoch: 84, Loss 0.015355661511421204\n",
      "Epoch: 85, Loss 0.030107254162430763\n",
      "Epoch: 86, Loss 0.029896613210439682\n",
      "Epoch: 87, Loss 0.022611532360315323\n",
      "Epoch: 88, Loss 0.016183432191610336\n",
      "Epoch: 89, Loss 0.01454576849937439\n",
      "Epoch: 90, Loss 0.0213371179997921\n",
      "Epoch: 91, Loss 0.019893351942300797\n",
      "Epoch: 92, Loss 0.019198870286345482\n",
      "Epoch: 93, Loss 0.009783633053302765\n",
      "Epoch: 94, Loss 0.008250167593359947\n",
      "Epoch: 95, Loss 0.008776161819696426\n",
      "Epoch: 96, Loss 0.009502574801445007\n",
      "Epoch: 97, Loss 0.02115972898900509\n",
      "Epoch: 98, Loss 0.01840857043862343\n",
      "Epoch: 99, Loss 0.017696276307106018\n"
     ]
    }
   ],
   "source": [
    "from torch.utils.data import DataLoader\n",
    "\n",
    "\n",
    "train_loader = DataLoader(cifar2, batch_size=64, shuffle=True)\n",
    "\n",
    "model = nn.Sequential(\n",
    "    nn.Linear(3072, 512),\n",
    "    nn.Tanh(),\n",
    "    nn.Linear(512, 2)\n",
    ").to(device)\n",
    "\n",
    "lr = 1e-2\n",
    "optimizer = optim.SGD(model.parameters(), lr=lr)\n",
    "criterion = nn.CrossEntropyLoss()\n",
    "\n",
    "n_epochs = 100\n",
    "\n",
    "for epoch in range(n_epochs):\n",
    "    for imgs, labels in train_loader:\n",
    "        optimizer.zero_grad()\n",
    "        batch_size = imgs.shape[0]\n",
    "        outputs = model(imgs.view(batch_size, -1).to(device))\n",
    "        loss = criterion(outputs, labels.to(device))\n",
    "\n",
    "        loss.backward()\n",
    "        optimizer.step()\n",
    "        \n",
    "    print(f\"Epoch: {epoch}, Loss {float(loss)}\")"
   ]
  },
  {
   "cell_type": "code",
   "execution_count": 35,
   "id": "ea76e58f",
   "metadata": {},
   "outputs": [
    {
     "name": "stdout",
     "output_type": "stream",
     "text": [
      "64\n",
      "64 \n",
      "\n",
      "\n",
      "64\n",
      "64 \n",
      "\n",
      "\n",
      "64\n",
      "64 \n",
      "\n",
      "\n",
      "64\n",
      "64 \n",
      "\n",
      "\n",
      "64\n",
      "64 \n",
      "\n",
      "\n",
      "64\n",
      "64 \n",
      "\n",
      "\n",
      "64\n",
      "64 \n",
      "\n",
      "\n",
      "64\n",
      "64 \n",
      "\n",
      "\n",
      "64\n",
      "64 \n",
      "\n",
      "\n",
      "64\n",
      "64 \n",
      "\n",
      "\n",
      "64\n",
      "64 \n",
      "\n",
      "\n",
      "64\n",
      "64 \n",
      "\n",
      "\n",
      "64\n",
      "64 \n",
      "\n",
      "\n",
      "64\n",
      "64 \n",
      "\n",
      "\n",
      "64\n",
      "64 \n",
      "\n",
      "\n",
      "64\n",
      "64 \n",
      "\n",
      "\n",
      "64\n",
      "64 \n",
      "\n",
      "\n",
      "64\n",
      "64 \n",
      "\n",
      "\n",
      "64\n",
      "64 \n",
      "\n",
      "\n",
      "64\n",
      "64 \n",
      "\n",
      "\n",
      "64\n",
      "64 \n",
      "\n",
      "\n",
      "64\n",
      "64 \n",
      "\n",
      "\n",
      "64\n",
      "64 \n",
      "\n",
      "\n",
      "64\n",
      "64 \n",
      "\n",
      "\n",
      "64\n",
      "64 \n",
      "\n",
      "\n",
      "64\n",
      "64 \n",
      "\n",
      "\n",
      "64\n",
      "64 \n",
      "\n",
      "\n",
      "64\n",
      "64 \n",
      "\n",
      "\n",
      "64\n",
      "64 \n",
      "\n",
      "\n",
      "64\n",
      "64 \n",
      "\n",
      "\n",
      "64\n",
      "64 \n",
      "\n",
      "\n",
      "16\n",
      "16 \n",
      "\n",
      "\n",
      "Accuracy: 0.7855\n"
     ]
    }
   ],
   "source": [
    "val_loader = DataLoader(cifar2_val, batch_size=64, shuffle=False, num_workers=10)\n",
    "\n",
    "correct = 0\n",
    "total = 0\n",
    "\n",
    "model.eval()\n",
    "with torch.no_grad():\n",
    "    for imgs, labels in val_loader:\n",
    "        imgs, labels = imgs.to(device), labels.to(device)\n",
    "        batch_size = imgs.shape[0]\n",
    "        print(batch_size)\n",
    "        outputs = model(imgs.view(batch_size, -1))\n",
    "        _, predicted = torch.max(outputs, dim=1)\n",
    "        total += labels.shape[0]\n",
    "        print(labels.shape[0], \"\\n\\n\")\n",
    "        correct += (predicted == labels).sum().item()\n",
    "print(f\"Accuracy: {correct / total}\")"
   ]
  },
  {
   "cell_type": "code",
   "execution_count": null,
   "id": "53ad6577",
   "metadata": {},
   "outputs": [
    {
     "data": {
      "text/plain": [
       "(1574402, [1572864, 512, 1024, 2])"
      ]
     },
     "execution_count": 36,
     "metadata": {},
     "output_type": "execute_result"
    }
   ],
   "source": [
    "numel_list = [p.numel() for p in model.parameters() if p.requires_grad == True]\n",
    "\n",
    "sum(numel_list), numel_list"
   ]
  },
  {
   "cell_type": "code",
   "execution_count": null,
   "id": "9a8085c4",
   "metadata": {},
   "outputs": [],
   "source": []
  },
  {
   "cell_type": "code",
   "execution_count": null,
   "id": "fcf6171e",
   "metadata": {},
   "outputs": [],
   "source": []
  },
  {
   "cell_type": "code",
   "execution_count": null,
   "id": "2da0ec0d",
   "metadata": {},
   "outputs": [],
   "source": []
  }
 ],
 "metadata": {
  "kernelspec": {
   "display_name": "Python 3",
   "language": "python",
   "name": "python3"
  },
  "language_info": {
   "codemirror_mode": {
    "name": "ipython",
    "version": 3
   },
   "file_extension": ".py",
   "mimetype": "text/x-python",
   "name": "python",
   "nbconvert_exporter": "python",
   "pygments_lexer": "ipython3",
   "version": "3.12.9"
  }
 },
 "nbformat": 4,
 "nbformat_minor": 5
}
