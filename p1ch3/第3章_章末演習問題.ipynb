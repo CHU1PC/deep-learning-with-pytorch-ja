{
  "cells": [
    {
      "cell_type": "markdown",
      "metadata": {
        "id": "WehYXzWpwhi1"
      },
      "source": [
        "第3章の章末演習問題"
      ]
    },
    {
      "cell_type": "markdown",
      "metadata": {
        "id": "lRoPRKcMwlbZ"
      },
      "source": [
        "### [1] list(range(9))からテンソルaを作成して、サイズ、オフセット、ストライドを確認してください。\n",
        "※ ここではGoogle Colaraboratoryでの実行を想定しています。\n"
      ]
    },
    {
      "cell_type": "markdown",
      "metadata": {
        "id": "FSZC8BAJw9A-"
      },
      "source": [
        "#### （a） b = a.view(3, 3)を使って新しいテンソルを作成します。viewはどんな動作をするのか？またaとbが同じストレージを共有していることを確認してください。"
      ]
    },
    {
      "cell_type": "code",
      "execution_count": 1,
      "metadata": {},
      "outputs": [],
      "source": [
        "import torch"
      ]
    },
    {
      "cell_type": "code",
      "execution_count": 12,
      "metadata": {
        "id": "kduB0LXvxL0b"
      },
      "outputs": [],
      "source": [
        "# 回答\n",
        "a = torch.arange(0,9)\n",
        "b = a.view(3, 3)"
      ]
    },
    {
      "cell_type": "code",
      "execution_count": 13,
      "metadata": {},
      "outputs": [
        {
          "data": {
            "text/plain": [
              "True"
            ]
          },
          "execution_count": 13,
          "metadata": {},
          "output_type": "execute_result"
        }
      ],
      "source": [
        "id(a.untyped_storage()) == id(b.untyped_storage())"
      ]
    },
    {
      "cell_type": "code",
      "execution_count": 14,
      "metadata": {},
      "outputs": [
        {
          "data": {
            "text/plain": [
              "4960405216"
            ]
          },
          "execution_count": 14,
          "metadata": {},
          "output_type": "execute_result"
        }
      ],
      "source": [
        "id(b)"
      ]
    },
    {
      "cell_type": "markdown",
      "metadata": {
        "id": "YO24ioODyKtO"
      },
      "source": [
        "#### （b） テンソル c = b[1:,1:]を作成し、サイズ、オフセット、ストライドを確認してください"
      ]
    },
    {
      "cell_type": "code",
      "execution_count": 15,
      "metadata": {
        "id": "U_7dlCScyWYr"
      },
      "outputs": [],
      "source": [
        "# 回答"
      ]
    },
    {
      "cell_type": "markdown",
      "metadata": {
        "id": "EdWttSfHzGKz"
      },
      "source": [
        "### [2] torch ライブラリからcosineやsquare rootのような数学の演算に対応する関数を見つけてください。"
      ]
    },
    {
      "cell_type": "markdown",
      "metadata": {
        "id": "9yzctZuLzODR"
      },
      "source": [
        "#### （a） 関数を要素ごとに変数aに適用してください。なぜエラーが発生するのでしょう？"
      ]
    },
    {
      "cell_type": "code",
      "execution_count": 17,
      "metadata": {},
      "outputs": [
        {
          "data": {
            "text/plain": [
              "torch.int64"
            ]
          },
          "execution_count": 17,
          "metadata": {},
          "output_type": "execute_result"
        }
      ],
      "source": [
        "a.dtype"
      ]
    },
    {
      "cell_type": "code",
      "execution_count": 16,
      "metadata": {
        "id": "DFq3TaQBy-ZE"
      },
      "outputs": [
        {
          "data": {
            "text/plain": [
              "tensor([ 1.0000,  0.5403, -0.4161, -0.9900, -0.6536,  0.2837,  0.9602,  0.7539,\n",
              "        -0.1455])"
            ]
          },
          "execution_count": 16,
          "metadata": {},
          "output_type": "execute_result"
        }
      ],
      "source": [
        "# 回答\n",
        "torch.cos(a)"
      ]
    },
    {
      "cell_type": "markdown",
      "metadata": {
        "id": "OBEZN-2gzy-P"
      },
      "source": [
        "#### （b） 関数を実行可能にするために、どのような操作が必要なのでしょうか？"
      ]
    },
    {
      "cell_type": "code",
      "execution_count": null,
      "metadata": {
        "id": "4e-l9C2S5Ihj"
      },
      "outputs": [],
      "source": [
        "# 回答"
      ]
    },
    {
      "cell_type": "markdown",
      "metadata": {
        "id": "Ei2PjV2b1pVy"
      },
      "source": [
        "#### （c） 何か自作の関数があれば、動かしてみましょう。"
      ]
    },
    {
      "cell_type": "code",
      "execution_count": null,
      "metadata": {
        "id": "6ij9x9461uDC"
      },
      "outputs": [],
      "source": [
        "# 省略"
      ]
    },
    {
      "cell_type": "markdown",
      "metadata": {
        "id": "6RKZsWxPz6kz"
      },
      "source": [
        "以上。\n"
      ]
    }
  ],
  "metadata": {
    "colab": {
      "collapsed_sections": [],
      "name": "第3章_章末演習問題.ipynb",
      "provenance": []
    },
    "kernelspec": {
      "display_name": "Python 3",
      "name": "python3"
    },
    "language_info": {
      "codemirror_mode": {
        "name": "ipython",
        "version": 3
      },
      "file_extension": ".py",
      "mimetype": "text/x-python",
      "name": "python",
      "nbconvert_exporter": "python",
      "pygments_lexer": "ipython3",
      "version": "3.12.9"
    }
  },
  "nbformat": 4,
  "nbformat_minor": 0
}
